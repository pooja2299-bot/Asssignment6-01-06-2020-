{
 "cells": [
  {
   "cell_type": "code",
   "execution_count": 1,
   "metadata": {},
   "outputs": [
    {
     "name": "stdout",
     "output_type": "stream",
     "text": [
      "welcome to the password picker!\n",
      "your new passowrd is:sleepyduck17+\n"
     ]
    }
   ],
   "source": [
    "import random#random module helps to make random choice\n",
    "import string#helps to perform all string related tasks\n",
    "adjectives=['sleepy','slow','smelly','wet','fat'\n",
    "           ,'red','orange','yellow','green',\n",
    "           'blue','purple','fluffy','white','proud','brave']\n",
    "nouns=['apple','dinosuar','ball','toaster','goat',\n",
    "      'dragon','hammer','duck','panda']\n",
    "print(\"welcome to the password picker!\")\n",
    "adjective=random.choice(adjectives)\n",
    "noun=random.choice(nouns)\n",
    "number=random.randrange(0,100)#used to select random number from 0 to 100\n",
    "special_char=random.choice(string.punctuation)\n",
    "password=adjective+noun+str(number)+special_char#combination all above created things and password is hard to crack\n",
    "print(\"your new passowrd is:%s\" % password)"
   ]
  },
  {
   "cell_type": "code",
   "execution_count": null,
   "metadata": {},
   "outputs": [],
   "source": []
  }
 ],
 "metadata": {
  "kernelspec": {
   "display_name": "Python 3",
   "language": "python",
   "name": "python3"
  },
  "language_info": {
   "codemirror_mode": {
    "name": "ipython",
    "version": 3
   },
   "file_extension": ".py",
   "mimetype": "text/x-python",
   "name": "python",
   "nbconvert_exporter": "python",
   "pygments_lexer": "ipython3",
   "version": "3.7.4"
  }
 },
 "nbformat": 4,
 "nbformat_minor": 2
}
